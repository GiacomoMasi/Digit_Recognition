{
 "cells": [
  {
   "cell_type": "markdown",
   "id": "2a37bea7",
   "metadata": {},
   "source": [
    "# Notebook for digit recognition of images\n"
   ]
  },
  {
   "cell_type": "code",
   "execution_count": 1,
   "id": "9e4e51f2",
   "metadata": {},
   "outputs": [],
   "source": [
    "# import libraries\n",
    "import pandas as pd\n",
    "import tensorflow as tf\n",
    "import matplotlib.pyplot as plt\n",
    "import numpy as np\n",
    "from sklearn.model_selection import train_test_split\n",
    "from sklearn.metrics import confusion_matrix"
   ]
  },
  {
   "cell_type": "code",
   "execution_count": 2,
   "id": "a4a28192",
   "metadata": {},
   "outputs": [],
   "source": [
    "# import dataset, train and test\n",
    "train_data = pd.read_csv('train_data.csv')\n",
    "test_data = pd.read_csv('test_data.csv')"
   ]
  },
  {
   "cell_type": "markdown",
   "id": "362800a4",
   "metadata": {},
   "source": [
    "Visualize data"
   ]
  },
  {
   "cell_type": "code",
   "execution_count": 3,
   "id": "500db48f",
   "metadata": {},
   "outputs": [
    {
     "data": {
      "text/html": [
       "<div>\n",
       "<style scoped>\n",
       "    .dataframe tbody tr th:only-of-type {\n",
       "        vertical-align: middle;\n",
       "    }\n",
       "\n",
       "    .dataframe tbody tr th {\n",
       "        vertical-align: top;\n",
       "    }\n",
       "\n",
       "    .dataframe thead th {\n",
       "        text-align: right;\n",
       "    }\n",
       "</style>\n",
       "<table border=\"1\" class=\"dataframe\">\n",
       "  <thead>\n",
       "    <tr style=\"text-align: right;\">\n",
       "      <th></th>\n",
       "      <th>pixel0</th>\n",
       "      <th>pixel1</th>\n",
       "      <th>pixel2</th>\n",
       "      <th>pixel3</th>\n",
       "      <th>pixel4</th>\n",
       "      <th>pixel5</th>\n",
       "      <th>pixel6</th>\n",
       "      <th>pixel7</th>\n",
       "      <th>pixel8</th>\n",
       "      <th>pixel9</th>\n",
       "      <th>...</th>\n",
       "      <th>pixel774</th>\n",
       "      <th>pixel775</th>\n",
       "      <th>pixel776</th>\n",
       "      <th>pixel777</th>\n",
       "      <th>pixel778</th>\n",
       "      <th>pixel779</th>\n",
       "      <th>pixel780</th>\n",
       "      <th>pixel781</th>\n",
       "      <th>pixel782</th>\n",
       "      <th>pixel783</th>\n",
       "    </tr>\n",
       "  </thead>\n",
       "  <tbody>\n",
       "    <tr>\n",
       "      <th>0</th>\n",
       "      <td>0</td>\n",
       "      <td>0</td>\n",
       "      <td>0</td>\n",
       "      <td>0</td>\n",
       "      <td>0</td>\n",
       "      <td>0</td>\n",
       "      <td>0</td>\n",
       "      <td>0</td>\n",
       "      <td>0</td>\n",
       "      <td>0</td>\n",
       "      <td>...</td>\n",
       "      <td>0</td>\n",
       "      <td>0</td>\n",
       "      <td>0</td>\n",
       "      <td>0</td>\n",
       "      <td>0</td>\n",
       "      <td>0</td>\n",
       "      <td>0</td>\n",
       "      <td>0</td>\n",
       "      <td>0</td>\n",
       "      <td>0</td>\n",
       "    </tr>\n",
       "    <tr>\n",
       "      <th>1</th>\n",
       "      <td>0</td>\n",
       "      <td>0</td>\n",
       "      <td>0</td>\n",
       "      <td>0</td>\n",
       "      <td>0</td>\n",
       "      <td>0</td>\n",
       "      <td>0</td>\n",
       "      <td>0</td>\n",
       "      <td>0</td>\n",
       "      <td>0</td>\n",
       "      <td>...</td>\n",
       "      <td>0</td>\n",
       "      <td>0</td>\n",
       "      <td>0</td>\n",
       "      <td>0</td>\n",
       "      <td>0</td>\n",
       "      <td>0</td>\n",
       "      <td>0</td>\n",
       "      <td>0</td>\n",
       "      <td>0</td>\n",
       "      <td>0</td>\n",
       "    </tr>\n",
       "    <tr>\n",
       "      <th>2</th>\n",
       "      <td>0</td>\n",
       "      <td>0</td>\n",
       "      <td>0</td>\n",
       "      <td>0</td>\n",
       "      <td>0</td>\n",
       "      <td>0</td>\n",
       "      <td>0</td>\n",
       "      <td>0</td>\n",
       "      <td>0</td>\n",
       "      <td>0</td>\n",
       "      <td>...</td>\n",
       "      <td>0</td>\n",
       "      <td>0</td>\n",
       "      <td>0</td>\n",
       "      <td>0</td>\n",
       "      <td>0</td>\n",
       "      <td>0</td>\n",
       "      <td>0</td>\n",
       "      <td>0</td>\n",
       "      <td>0</td>\n",
       "      <td>0</td>\n",
       "    </tr>\n",
       "    <tr>\n",
       "      <th>3</th>\n",
       "      <td>0</td>\n",
       "      <td>0</td>\n",
       "      <td>0</td>\n",
       "      <td>0</td>\n",
       "      <td>0</td>\n",
       "      <td>0</td>\n",
       "      <td>0</td>\n",
       "      <td>0</td>\n",
       "      <td>0</td>\n",
       "      <td>0</td>\n",
       "      <td>...</td>\n",
       "      <td>0</td>\n",
       "      <td>0</td>\n",
       "      <td>0</td>\n",
       "      <td>0</td>\n",
       "      <td>0</td>\n",
       "      <td>0</td>\n",
       "      <td>0</td>\n",
       "      <td>0</td>\n",
       "      <td>0</td>\n",
       "      <td>0</td>\n",
       "    </tr>\n",
       "    <tr>\n",
       "      <th>4</th>\n",
       "      <td>0</td>\n",
       "      <td>0</td>\n",
       "      <td>0</td>\n",
       "      <td>0</td>\n",
       "      <td>0</td>\n",
       "      <td>0</td>\n",
       "      <td>0</td>\n",
       "      <td>0</td>\n",
       "      <td>0</td>\n",
       "      <td>0</td>\n",
       "      <td>...</td>\n",
       "      <td>0</td>\n",
       "      <td>0</td>\n",
       "      <td>0</td>\n",
       "      <td>0</td>\n",
       "      <td>0</td>\n",
       "      <td>0</td>\n",
       "      <td>0</td>\n",
       "      <td>0</td>\n",
       "      <td>0</td>\n",
       "      <td>0</td>\n",
       "    </tr>\n",
       "  </tbody>\n",
       "</table>\n",
       "<p>5 rows × 784 columns</p>\n",
       "</div>"
      ],
      "text/plain": [
       "   pixel0  pixel1  pixel2  pixel3  pixel4  pixel5  pixel6  pixel7  pixel8  \\\n",
       "0       0       0       0       0       0       0       0       0       0   \n",
       "1       0       0       0       0       0       0       0       0       0   \n",
       "2       0       0       0       0       0       0       0       0       0   \n",
       "3       0       0       0       0       0       0       0       0       0   \n",
       "4       0       0       0       0       0       0       0       0       0   \n",
       "\n",
       "   pixel9  ...  pixel774  pixel775  pixel776  pixel777  pixel778  pixel779  \\\n",
       "0       0  ...         0         0         0         0         0         0   \n",
       "1       0  ...         0         0         0         0         0         0   \n",
       "2       0  ...         0         0         0         0         0         0   \n",
       "3       0  ...         0         0         0         0         0         0   \n",
       "4       0  ...         0         0         0         0         0         0   \n",
       "\n",
       "   pixel780  pixel781  pixel782  pixel783  \n",
       "0         0         0         0         0  \n",
       "1         0         0         0         0  \n",
       "2         0         0         0         0  \n",
       "3         0         0         0         0  \n",
       "4         0         0         0         0  \n",
       "\n",
       "[5 rows x 784 columns]"
      ]
     },
     "execution_count": 3,
     "metadata": {},
     "output_type": "execute_result"
    }
   ],
   "source": [
    "# show an overview of dataset\n",
    "train_data.head()\n",
    "\n",
    "train_labels = train_data['label']\n",
    "train_samples = train_data.drop(columns='label')\n",
    "\n",
    "train_labels.head()\n",
    "train_samples.head()"
   ]
  },
  {
   "cell_type": "code",
   "execution_count": 4,
   "id": "1cd344b1",
   "metadata": {},
   "outputs": [
    {
     "name": "stdout",
     "output_type": "stream",
     "text": [
      "1    4684\n",
      "7    4401\n",
      "3    4351\n",
      "9    4188\n",
      "2    4177\n",
      "6    4137\n",
      "0    4132\n",
      "4    4072\n",
      "8    4063\n",
      "5    3795\n",
      "Name: label, dtype: int64\n"
     ]
    }
   ],
   "source": [
    "# count occurences of labels\n",
    "print(train_labels.value_counts())"
   ]
  },
  {
   "cell_type": "markdown",
   "id": "b8b11ec8",
   "metadata": {},
   "source": [
    "Visualize some images of the data set"
   ]
  },
  {
   "cell_type": "code",
   "execution_count": 5,
   "id": "9a139092",
   "metadata": {},
   "outputs": [],
   "source": [
    "def plot_image(image):\n",
    "    plt.imshow(image)"
   ]
  },
  {
   "cell_type": "code",
   "execution_count": 6,
   "id": "d5b8bfab",
   "metadata": {},
   "outputs": [
    {
     "data": {
      "image/png": "[encoded data removed]",
      "text/plain": [
       "<Figure size 720x360 with 20 Axes>"
      ]
     },
     "metadata": {
      "needs_background": "light"
     },
     "output_type": "display_data"
    }
   ],
   "source": [
    "#plot first twenty images\n",
    "plt.figure(figsize=(10,5))\n",
    "for i in range(20):\n",
    "    plt.subplot(4, 5, i+1)\n",
    "    plot_image(np.array(train_samples.loc[i]).reshape(28, 28))\n",
    "plt.show()"
   ]
  },
  {
   "cell_type": "code",
   "execution_count": 7,
   "id": "67f2b696",
   "metadata": {},
   "outputs": [
    {
     "name": "stdout",
     "output_type": "stream",
     "text": [
      "(33600, 784)\n",
      "(33600,)\n",
      "(8400, 784)\n",
      "(8400,)\n"
     ]
    }
   ],
   "source": [
    "# split train data in sub train and test set, in order to train and evaluate locally the model\n",
    "\n",
    "x_train, x_test, y_train, y_test = train_test_split(train_samples, train_labels, test_size=0.2)\n",
    "\n",
    "print(x_train.shape)\n",
    "print(y_train.shape)\n",
    "print(x_test.shape)\n",
    "print(y_test.shape)"
   ]
  },
  {
   "cell_type": "markdown",
   "id": "ce576192",
   "metadata": {},
   "source": [
    "Creation of two different models, one with Flatten layers and the other with Dense layer as Input layer. This is useful to do a comparison between the models\n"
   ]
  },
  {
   "cell_type": "code",
   "execution_count": 8,
   "id": "a226ad53",
   "metadata": {},
   "outputs": [
    {
     "name": "stdout",
     "output_type": "stream",
     "text": [
      "Epoch 1/20\n",
      "1050/1050 [==============================] - 1s 1ms/step - loss: 4.1393 - accuracy: 0.8287\n",
      "Epoch 2/20\n",
      "1050/1050 [==============================] - 1s 1ms/step - loss: 0.5678 - accuracy: 0.8794\n",
      "Epoch 3/20\n",
      "1050/1050 [==============================] - 1s 1ms/step - loss: 0.3760 - accuracy: 0.9086\n",
      "Epoch 4/20\n",
      "1050/1050 [==============================] - 1s 1ms/step - loss: 0.3152 - accuracy: 0.9221\n",
      "Epoch 5/20\n",
      "1050/1050 [==============================] - 1s 1ms/step - loss: 0.2623 - accuracy: 0.9309\n",
      "Epoch 6/20\n",
      "1050/1050 [==============================] - 1s 1ms/step - loss: 0.2597 - accuracy: 0.9346\n",
      "Epoch 7/20\n",
      "1050/1050 [==============================] - 1s 1ms/step - loss: 0.2287 - accuracy: 0.9401\n",
      "Epoch 8/20\n",
      "1050/1050 [==============================] - 1s 1ms/step - loss: 0.2183 - accuracy: 0.9430\n",
      "Epoch 9/20\n",
      "1050/1050 [==============================] - 1s 1ms/step - loss: 0.1950 - accuracy: 0.9495\n",
      "Epoch 10/20\n",
      "1050/1050 [==============================] - 1s 1ms/step - loss: 0.1965 - accuracy: 0.9483\n",
      "Epoch 11/20\n",
      "1050/1050 [==============================] - 1s 1ms/step - loss: 0.1846 - accuracy: 0.9532\n",
      "Epoch 12/20\n",
      "1050/1050 [==============================] - 1s 1ms/step - loss: 0.1728 - accuracy: 0.9564\n",
      "Epoch 13/20\n",
      "1050/1050 [==============================] - 1s 1ms/step - loss: 0.1714 - accuracy: 0.9568\n",
      "Epoch 14/20\n",
      "1050/1050 [==============================] - 1s 1ms/step - loss: 0.1601 - accuracy: 0.9582\n",
      "Epoch 15/20\n",
      "1050/1050 [==============================] - 1s 1ms/step - loss: 0.1630 - accuracy: 0.9599\n",
      "Epoch 16/20\n",
      "1050/1050 [==============================] - 1s 1ms/step - loss: 0.1512 - accuracy: 0.9624\n",
      "Epoch 17/20\n",
      "1050/1050 [==============================] - 1s 1ms/step - loss: 0.1537 - accuracy: 0.9640\n",
      "Epoch 18/20\n",
      "1050/1050 [==============================] - 1s 1ms/step - loss: 0.1516 - accuracy: 0.9624\n",
      "Epoch 19/20\n",
      "1050/1050 [==============================] - 1s 1ms/step - loss: 0.1380 - accuracy: 0.9652\n",
      "Epoch 20/20\n",
      "1050/1050 [==============================] - 1s 1ms/step - loss: 0.1359 - accuracy: 0.9673\n"
     ]
    }
   ],
   "source": [
    "# create a simple neural network\n",
    "\n",
    "model_1 = tf.keras.Sequential([\n",
    "    tf.keras.layers.Dense(100, activation=\"relu\"),\n",
    "    tf.keras.layers.Dense(10, activation='softmax')\n",
    "])\n",
    "\n",
    "model_1.compile(optimizer=tf.keras.optimizers.Adam(),\n",
    "                loss=tf.keras.losses.SparseCategoricalCrossentropy(),\n",
    "               metrics=['accuracy'])\n",
    "\n",
    "history_1 = model_1.fit(x_train, y_train, epochs=20)"
   ]
  },
  {
   "cell_type": "code",
   "execution_count": 9,
   "id": "681b4010",
   "metadata": {},
   "outputs": [
    {
     "name": "stdout",
     "output_type": "stream",
     "text": [
      "(33600, 28, 28, 1)\n",
      "Epoch 1/20\n",
      "1050/1050 [==============================] - 1s 1ms/step - loss: 4.3701 - accuracy: 0.8353\n",
      "Epoch 2/20\n",
      "1050/1050 [==============================] - 1s 1ms/step - loss: 0.6015 - accuracy: 0.8743\n",
      "Epoch 3/20\n",
      "1050/1050 [==============================] - 1s 1ms/step - loss: 0.4146 - accuracy: 0.9022\n",
      "Epoch 4/20\n",
      "1050/1050 [==============================] - 1s 1ms/step - loss: 0.3616 - accuracy: 0.9122\n",
      "Epoch 5/20\n",
      "1050/1050 [==============================] - 1s 1ms/step - loss: 0.3220 - accuracy: 0.9212\n",
      "Epoch 6/20\n",
      "1050/1050 [==============================] - 1s 1ms/step - loss: 0.2705 - accuracy: 0.9308\n",
      "Epoch 7/20\n",
      "1050/1050 [==============================] - 1s 1ms/step - loss: 0.2491 - accuracy: 0.9364\n",
      "Epoch 8/20\n",
      "1050/1050 [==============================] - 1s 1ms/step - loss: 0.2330 - accuracy: 0.9399\n",
      "Epoch 9/20\n",
      "1050/1050 [==============================] - 1s 1ms/step - loss: 0.2274 - accuracy: 0.9425\n",
      "Epoch 10/20\n",
      "1050/1050 [==============================] - 1s 1ms/step - loss: 0.2040 - accuracy: 0.9463\n",
      "Epoch 11/20\n",
      "1050/1050 [==============================] - 1s 1ms/step - loss: 0.1919 - accuracy: 0.9497\n",
      "Epoch 12/20\n",
      "1050/1050 [==============================] - 1s 1ms/step - loss: 0.1965 - accuracy: 0.9483\n",
      "Epoch 13/20\n",
      "1050/1050 [==============================] - 1s 1ms/step - loss: 0.1791 - accuracy: 0.9522\n",
      "Epoch 14/20\n",
      "1050/1050 [==============================] - 1s 1ms/step - loss: 0.1739 - accuracy: 0.9545\n",
      "Epoch 15/20\n",
      "1050/1050 [==============================] - 1s 1ms/step - loss: 0.1709 - accuracy: 0.9558\n",
      "Epoch 16/20\n",
      "1050/1050 [==============================] - 1s 1ms/step - loss: 0.1572 - accuracy: 0.9600\n",
      "Epoch 17/20\n",
      "1050/1050 [==============================] - 1s 1ms/step - loss: 0.1625 - accuracy: 0.9594\n",
      "Epoch 18/20\n",
      "1050/1050 [==============================] - 1s 1ms/step - loss: 0.1674 - accuracy: 0.9580\n",
      "Epoch 19/20\n",
      "1050/1050 [==============================] - 1s 1ms/step - loss: 0.1522 - accuracy: 0.9610\n",
      "Epoch 20/20\n",
      "1050/1050 [==============================] - 1s 1ms/step - loss: 0.1451 - accuracy: 0.9620\n"
     ]
    }
   ],
   "source": [
    "# create a simple neural network\n",
    "x_train_f = x_train.values.reshape(-1,28,28,1)\n",
    "print(x_train_f.shape)\n",
    "\n",
    "model_2 = tf.keras.Sequential([\n",
    "    tf.keras.layers.Flatten(input_shape=(28,28)),\n",
    "    tf.keras.layers.Dense(100, activation=\"relu\"),\n",
    "    tf.keras.layers.Dense(10, activation='softmax')\n",
    "])\n",
    "\n",
    "model_2.compile(optimizer=tf.keras.optimizers.Adam(),\n",
    "                loss=tf.keras.losses.SparseCategoricalCrossentropy(),\n",
    "               metrics=['accuracy'])\n",
    "\n",
    "#print(model_1.summary())\n",
    "history_2 = model_2.fit(x_train_f, y_train, epochs=20)"
   ]
  },
  {
   "cell_type": "markdown",
   "id": "27ff224d",
   "metadata": {},
   "source": [
    "Plot the loss and the accuracy of the two models over the epochs"
   ]
  },
  {
   "cell_type": "code",
   "execution_count": 10,
   "id": "9b23dac0",
   "metadata": {},
   "outputs": [
    {
     "data": {
      "text/plain": [
       "Text(0.5, 1.0, 'Loss and Accuracy of Model 2')"
      ]
     },
     "execution_count": 10,
     "metadata": {},
     "output_type": "execute_result"
    },
    {
     "data": {
      "image/png": "[encoded data removed]",
      "text/plain": [
       "<Figure size 432x288 with 1 Axes>"
      ]
     },
     "metadata": {
      "needs_background": "light"
     },
     "output_type": "display_data"
    },
    {
     "data": {
      "image/png": "[encoded data removed]",
      "text/plain": [
       "<Figure size 432x288 with 1 Axes>"
      ]
     },
     "metadata": {
      "needs_background": "light"
     },
     "output_type": "display_data"
    }
   ],
   "source": [
    "# plot accuracy of models\n",
    "pd.DataFrame(history_1.history).plot()\n",
    "plt.title(\"Loss and Accuracy of Model 1\")\n",
    "\n",
    "pd.DataFrame(history_2.history).plot()\n",
    "plt.title(\"Loss and Accuracy of Model 2\")"
   ]
  },
  {
   "cell_type": "code",
   "execution_count": 11,
   "id": "8c5efcc2",
   "metadata": {},
   "outputs": [
    {
     "name": "stdout",
     "output_type": "stream",
     "text": [
      "263/263 [==============================] - 0s 965us/step - loss: 0.3819 - accuracy: 0.9440\n"
     ]
    }
   ],
   "source": [
    "# compute the loss and other metrics of the model\n",
    "loss_1,accuracy_1 = model_1.evaluate(x_test,y_test)"
   ]
  },
  {
   "cell_type": "markdown",
   "id": "b8280113",
   "metadata": {},
   "source": [
    "Definition of a function to convert a multi class array format (i.e. if we have 3 classes, the labels array should be \n",
    "[ [0,0,1], [1,0,0], ...]. Now I'll convert the array in the format [label1, label2,...]"
   ]
  },
  {
   "cell_type": "code",
   "execution_count": 12,
   "id": "fc7509f7",
   "metadata": {},
   "outputs": [],
   "source": [
    "def convert_multi_dimensional_array_to_array(multi_array):\n",
    "    single_array = []\n",
    "\n",
    "    for elem in multi_array:    \n",
    "        single_array.append(elem.argmax())\n",
    "        \n",
    "    return single_array"
   ]
  },
  {
   "cell_type": "code",
   "execution_count": 13,
   "id": "1933e01b",
   "metadata": {},
   "outputs": [
    {
     "data": {
      "text/plain": [
       "array([[743,   0,   1,   0,   1,   5,   6,   1,  54,   1],\n",
       "       [  0, 941,   7,   4,   0,   1,   0,   5,   8,   0],\n",
       "       [  3,   1, 804,   4,   6,   1,   3,   9,  17,   0],\n",
       "       [  0,   0,  29, 785,   0,   9,   0,   7,  25,   5],\n",
       "       [  0,   3,   3,   0, 823,   1,  12,   8,   6,  15],\n",
       "       [  0,   0,   2,   7,   2, 708,   9,   1,  16,   9],\n",
       "       [  0,   2,   2,   0,   3,   5, 759,   0,  12,   0],\n",
       "       [  2,   2,   3,   2,   3,   0,   0, 862,   6,   5],\n",
       "       [  1,   9,   6,   8,   2,   8,   8,   2, 740,   2],\n",
       "       [  0,   0,   1,   9,  23,   3,   0,  15,  19, 765]], dtype=int64)"
      ]
     },
     "execution_count": 13,
     "metadata": {},
     "output_type": "execute_result"
    }
   ],
   "source": [
    "# Test the model on the test set, making a comparison between the y_test labels and the output of predict function\n",
    "y_pred = model_1.predict(x_test)\n",
    "yy_pred = convert_multi_dimensional_array_to_array(y_pred)\n",
    "\n",
    "confusion_matrix(y_test, yy_pred)"
   ]
  },
  {
   "cell_type": "code",
   "execution_count": 14,
   "id": "99faa261",
   "metadata": {},
   "outputs": [],
   "source": [
    "y_final= model_1.predict(test_data)"
   ]
  },
  {
   "cell_type": "code",
   "execution_count": 15,
   "id": "b753a5a4",
   "metadata": {},
   "outputs": [
    {
     "name": "stdout",
     "output_type": "stream",
     "text": [
      "(28000,)\n"
     ]
    }
   ],
   "source": [
    "y_final = np.array(convert_multi_dimensional_array_to_array(y_final))\n",
    "print(y_final.shape)"
   ]
  },
  {
   "cell_type": "markdown",
   "id": "1c95a067",
   "metadata": {},
   "source": [
    "## Write test results on a txt file"
   ]
  },
  {
   "cell_type": "code",
   "execution_count": 16,
   "id": "56d11087",
   "metadata": {},
   "outputs": [],
   "source": [
    "result_file= open(\"result.txt\",\"w+\")\n",
    "result_file.truncate()\n",
    "result_file.write(\"ImageId,Label\\n\")\n",
    "count = 1 \n",
    "for elem in y_final:\n",
    "    result_file.write(str(count) + \",\"+ str(elem) + \"\\n\")\n",
    "    count +=1\n",
    "result_file.close()"
   ]
  }
 ],
 "metadata": {
  "kernelspec": {
   "display_name": "Python 3",
   "language": "python",
   "name": "python3"
  },
  "language_info": {
   "codemirror_mode": {
    "name": "ipython",
    "version": 3
   },
   "file_extension": ".py",
   "mimetype": "text/x-python",
   "name": "python",
   "nbconvert_exporter": "python",
   "pygments_lexer": "ipython3",
   "version": "3.8.8"
  }
 },
 "nbformat": 4,
 "nbformat_minor": 5
}
