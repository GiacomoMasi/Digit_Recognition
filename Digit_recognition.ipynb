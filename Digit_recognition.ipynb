{
 "cells": [
  {
   "cell_type": "code",
   "execution_count": 1,
   "id": "9e4e51f2",
   "metadata": {},
   "outputs": [],
   "source": [
    "# import libraries\n",
    "import pandas as pd\n",
    "import tensorflow as tf\n",
    "import matplotlib.pyplot as plt\n",
    "import numpy as np\n",
    "from sklearn.model_selection import train_test_split\n",
    "from sklearn.metrics import confusion_matrix"
   ]
  },
  {
   "cell_type": "code",
   "execution_count": 2,
   "id": "a4a28192",
   "metadata": {},
   "outputs": [],
   "source": [
    "# import dataset, train and test\n",
    "train_data = pd.read_csv('train_data.csv')\n",
    "test_data = pd.read_csv('test_data.csv')"
   ]
  },
  {
   "cell_type": "code",
   "execution_count": 3,
   "id": "500db48f",
   "metadata": {},
   "outputs": [
    {
     "data": {
      "text/html": [
       "<div>\n",
       "<style scoped>\n",
       "    .dataframe tbody tr th:only-of-type {\n",
       "        vertical-align: middle;\n",
       "    }\n",
       "\n",
       "    .dataframe tbody tr th {\n",
       "        vertical-align: top;\n",
       "    }\n",
       "\n",
       "    .dataframe thead th {\n",
       "        text-align: right;\n",
       "    }\n",
       "</style>\n",
       "<table border=\"1\" class=\"dataframe\">\n",
       "  <thead>\n",
       "    <tr style=\"text-align: right;\">\n",
       "      <th></th>\n",
       "      <th>pixel0</th>\n",
       "      <th>pixel1</th>\n",
       "      <th>pixel2</th>\n",
       "      <th>pixel3</th>\n",
       "      <th>pixel4</th>\n",
       "      <th>pixel5</th>\n",
       "      <th>pixel6</th>\n",
       "      <th>pixel7</th>\n",
       "      <th>pixel8</th>\n",
       "      <th>pixel9</th>\n",
       "      <th>...</th>\n",
       "      <th>pixel774</th>\n",
       "      <th>pixel775</th>\n",
       "      <th>pixel776</th>\n",
       "      <th>pixel777</th>\n",
       "      <th>pixel778</th>\n",
       "      <th>pixel779</th>\n",
       "      <th>pixel780</th>\n",
       "      <th>pixel781</th>\n",
       "      <th>pixel782</th>\n",
       "      <th>pixel783</th>\n",
       "    </tr>\n",
       "  </thead>\n",
       "  <tbody>\n",
       "    <tr>\n",
       "      <th>0</th>\n",
       "      <td>0</td>\n",
       "      <td>0</td>\n",
       "      <td>0</td>\n",
       "      <td>0</td>\n",
       "      <td>0</td>\n",
       "      <td>0</td>\n",
       "      <td>0</td>\n",
       "      <td>0</td>\n",
       "      <td>0</td>\n",
       "      <td>0</td>\n",
       "      <td>...</td>\n",
       "      <td>0</td>\n",
       "      <td>0</td>\n",
       "      <td>0</td>\n",
       "      <td>0</td>\n",
       "      <td>0</td>\n",
       "      <td>0</td>\n",
       "      <td>0</td>\n",
       "      <td>0</td>\n",
       "      <td>0</td>\n",
       "      <td>0</td>\n",
       "    </tr>\n",
       "    <tr>\n",
       "      <th>1</th>\n",
       "      <td>0</td>\n",
       "      <td>0</td>\n",
       "      <td>0</td>\n",
       "      <td>0</td>\n",
       "      <td>0</td>\n",
       "      <td>0</td>\n",
       "      <td>0</td>\n",
       "      <td>0</td>\n",
       "      <td>0</td>\n",
       "      <td>0</td>\n",
       "      <td>...</td>\n",
       "      <td>0</td>\n",
       "      <td>0</td>\n",
       "      <td>0</td>\n",
       "      <td>0</td>\n",
       "      <td>0</td>\n",
       "      <td>0</td>\n",
       "      <td>0</td>\n",
       "      <td>0</td>\n",
       "      <td>0</td>\n",
       "      <td>0</td>\n",
       "    </tr>\n",
       "    <tr>\n",
       "      <th>2</th>\n",
       "      <td>0</td>\n",
       "      <td>0</td>\n",
       "      <td>0</td>\n",
       "      <td>0</td>\n",
       "      <td>0</td>\n",
       "      <td>0</td>\n",
       "      <td>0</td>\n",
       "      <td>0</td>\n",
       "      <td>0</td>\n",
       "      <td>0</td>\n",
       "      <td>...</td>\n",
       "      <td>0</td>\n",
       "      <td>0</td>\n",
       "      <td>0</td>\n",
       "      <td>0</td>\n",
       "      <td>0</td>\n",
       "      <td>0</td>\n",
       "      <td>0</td>\n",
       "      <td>0</td>\n",
       "      <td>0</td>\n",
       "      <td>0</td>\n",
       "    </tr>\n",
       "    <tr>\n",
       "      <th>3</th>\n",
       "      <td>0</td>\n",
       "      <td>0</td>\n",
       "      <td>0</td>\n",
       "      <td>0</td>\n",
       "      <td>0</td>\n",
       "      <td>0</td>\n",
       "      <td>0</td>\n",
       "      <td>0</td>\n",
       "      <td>0</td>\n",
       "      <td>0</td>\n",
       "      <td>...</td>\n",
       "      <td>0</td>\n",
       "      <td>0</td>\n",
       "      <td>0</td>\n",
       "      <td>0</td>\n",
       "      <td>0</td>\n",
       "      <td>0</td>\n",
       "      <td>0</td>\n",
       "      <td>0</td>\n",
       "      <td>0</td>\n",
       "      <td>0</td>\n",
       "    </tr>\n",
       "    <tr>\n",
       "      <th>4</th>\n",
       "      <td>0</td>\n",
       "      <td>0</td>\n",
       "      <td>0</td>\n",
       "      <td>0</td>\n",
       "      <td>0</td>\n",
       "      <td>0</td>\n",
       "      <td>0</td>\n",
       "      <td>0</td>\n",
       "      <td>0</td>\n",
       "      <td>0</td>\n",
       "      <td>...</td>\n",
       "      <td>0</td>\n",
       "      <td>0</td>\n",
       "      <td>0</td>\n",
       "      <td>0</td>\n",
       "      <td>0</td>\n",
       "      <td>0</td>\n",
       "      <td>0</td>\n",
       "      <td>0</td>\n",
       "      <td>0</td>\n",
       "      <td>0</td>\n",
       "    </tr>\n",
       "  </tbody>\n",
       "</table>\n",
       "<p>5 rows × 784 columns</p>\n",
       "</div>"
      ],
      "text/plain": [
       "   pixel0  pixel1  pixel2  pixel3  pixel4  pixel5  pixel6  pixel7  pixel8  \\\n",
       "0       0       0       0       0       0       0       0       0       0   \n",
       "1       0       0       0       0       0       0       0       0       0   \n",
       "2       0       0       0       0       0       0       0       0       0   \n",
       "3       0       0       0       0       0       0       0       0       0   \n",
       "4       0       0       0       0       0       0       0       0       0   \n",
       "\n",
       "   pixel9  ...  pixel774  pixel775  pixel776  pixel777  pixel778  pixel779  \\\n",
       "0       0  ...         0         0         0         0         0         0   \n",
       "1       0  ...         0         0         0         0         0         0   \n",
       "2       0  ...         0         0         0         0         0         0   \n",
       "3       0  ...         0         0         0         0         0         0   \n",
       "4       0  ...         0         0         0         0         0         0   \n",
       "\n",
       "   pixel780  pixel781  pixel782  pixel783  \n",
       "0         0         0         0         0  \n",
       "1         0         0         0         0  \n",
       "2         0         0         0         0  \n",
       "3         0         0         0         0  \n",
       "4         0         0         0         0  \n",
       "\n",
       "[5 rows x 784 columns]"
      ]
     },
     "execution_count": 3,
     "metadata": {},
     "output_type": "execute_result"
    }
   ],
   "source": [
    "# show an overview of dataset\n",
    "train_data.head()\n",
    "\n",
    "train_labels = train_data['label']\n",
    "train_samples = train_data.drop(columns='label')\n",
    "\n",
    "train_labels.head()\n",
    "train_samples.head()"
   ]
  },
  {
   "cell_type": "code",
   "execution_count": 4,
   "id": "1cd344b1",
   "metadata": {},
   "outputs": [
    {
     "name": "stdout",
     "output_type": "stream",
     "text": [
      "1    4684\n",
      "7    4401\n",
      "3    4351\n",
      "9    4188\n",
      "2    4177\n",
      "6    4137\n",
      "0    4132\n",
      "4    4072\n",
      "8    4063\n",
      "5    3795\n",
      "Name: label, dtype: int64\n"
     ]
    }
   ],
   "source": [
    "# count occurences of labels\n",
    "print(train_labels.value_counts())"
   ]
  },
  {
   "cell_type": "code",
   "execution_count": 5,
   "id": "9a139092",
   "metadata": {},
   "outputs": [],
   "source": [
    "def plot_image(image):\n",
    "    plt.imshow(image)"
   ]
  },
  {
   "cell_type": "code",
   "execution_count": 6,
   "id": "d5b8bfab",
   "metadata": {},
   "outputs": [
    {
     "data": {
      "image/png": "[encoded data removed]",
      "text/plain": [
       "<Figure size 720x360 with 20 Axes>"
      ]
     },
     "metadata": {
      "needs_background": "light"
     },
     "output_type": "display_data"
    }
   ],
   "source": [
    "#plot first twenty images\n",
    "plt.figure(figsize=(10,5))\n",
    "for i in range(20):\n",
    "    plt.subplot(4, 5, i+1)\n",
    "    plot_image(np.array(train_samples.loc[i]).reshape(28, 28))\n",
    "plt.show()"
   ]
  },
  {
   "cell_type": "code",
   "execution_count": 7,
   "id": "67f2b696",
   "metadata": {},
   "outputs": [
    {
     "name": "stdout",
     "output_type": "stream",
     "text": [
      "(33600, 784)\n",
      "(33600,)\n",
      "(8400, 784)\n",
      "(8400,)\n"
     ]
    }
   ],
   "source": [
    "# split train data in sub train and test set, in order to train and evaluate locally the model\n",
    "\n",
    "x_train, x_test, y_train, y_test = train_test_split(train_samples, train_labels, test_size=0.2)\n",
    "\n",
    "print(x_train.shape)\n",
    "print(y_train.shape)\n",
    "print(x_test.shape)\n",
    "print(y_test.shape)"
   ]
  },
  {
   "cell_type": "code",
   "execution_count": 8,
   "id": "a226ad53",
   "metadata": {},
   "outputs": [
    {
     "name": "stdout",
     "output_type": "stream",
     "text": [
      "Epoch 1/20\n",
      "1050/1050 [==============================] - 1s 1ms/step - loss: 3.4522 - accuracy: 0.8101: 0s - loss: 3.7600 - accuracy: \n",
      "Epoch 2/20\n",
      "1050/1050 [==============================] - 2s 2ms/step - loss: 0.5094 - accuracy: 0.8801\n",
      "Epoch 3/20\n",
      "1050/1050 [==============================] - 2s 2ms/step - loss: 0.3503 - accuracy: 0.9103\n",
      "Epoch 4/20\n",
      "1050/1050 [==============================] - 1s 1ms/step - loss: 0.2984 - accuracy: 0.9202\n",
      "Epoch 5/20\n",
      "1050/1050 [==============================] - 1s 1ms/step - loss: 0.2722 - accuracy: 0.9297\n",
      "Epoch 6/20\n",
      "1050/1050 [==============================] - 1s 1ms/step - loss: 0.2593 - accuracy: 0.9305\n",
      "Epoch 7/20\n",
      "1050/1050 [==============================] - 2s 2ms/step - loss: 0.2472 - accuracy: 0.9365\n",
      "Epoch 8/20\n",
      "1050/1050 [==============================] - 2s 2ms/step - loss: 0.2153 - accuracy: 0.9430\n",
      "Epoch 9/20\n",
      "1050/1050 [==============================] - 1s 1ms/step - loss: 0.2094 - accuracy: 0.9463\n",
      "Epoch 10/20\n",
      "1050/1050 [==============================] - 1s 1ms/step - loss: 0.1862 - accuracy: 0.9510\n",
      "Epoch 11/20\n",
      "1050/1050 [==============================] - 2s 1ms/step - loss: 0.1802 - accuracy: 0.9524\n",
      "Epoch 12/20\n",
      "1050/1050 [==============================] - 2s 1ms/step - loss: 0.1630 - accuracy: 0.9557\n",
      "Epoch 13/20\n",
      "1050/1050 [==============================] - 1s 1ms/step - loss: 0.1678 - accuracy: 0.9570\n",
      "Epoch 14/20\n",
      "1050/1050 [==============================] - 1s 1ms/step - loss: 0.1639 - accuracy: 0.9586\n",
      "Epoch 15/20\n",
      "1050/1050 [==============================] - 1s 1ms/step - loss: 0.1539 - accuracy: 0.9608\n",
      "Epoch 16/20\n",
      "1050/1050 [==============================] - 1s 1ms/step - loss: 0.1449 - accuracy: 0.9621\n",
      "Epoch 17/20\n",
      "1050/1050 [==============================] - 1s 1ms/step - loss: 0.1521 - accuracy: 0.9613\n",
      "Epoch 18/20\n",
      "1050/1050 [==============================] - 1s 1ms/step - loss: 0.1501 - accuracy: 0.9632\n",
      "Epoch 19/20\n",
      "1050/1050 [==============================] - 1s 1ms/step - loss: 0.1408 - accuracy: 0.9647\n",
      "Epoch 20/20\n",
      "1050/1050 [==============================] - 1s 1ms/step - loss: 0.1422 - accuracy: 0.9660\n"
     ]
    }
   ],
   "source": [
    "# create a simple neural network\n",
    "\n",
    "model_1 = tf.keras.Sequential([\n",
    "    tf.keras.layers.Dense(100, activation=\"relu\"),\n",
    "    tf.keras.layers.Dense(10, activation='softmax')\n",
    "])\n",
    "\n",
    "model_1.compile(optimizer=tf.keras.optimizers.Adam(),\n",
    "                loss=tf.keras.losses.SparseCategoricalCrossentropy(),\n",
    "               metrics=['accuracy'])\n",
    "\n",
    "history_1 = model_1.fit(x_train, y_train, epochs=20)"
   ]
  },
  {
   "cell_type": "code",
   "execution_count": 9,
   "id": "681b4010",
   "metadata": {},
   "outputs": [
    {
     "name": "stdout",
     "output_type": "stream",
     "text": [
      "(33600, 28, 28, 1)\n",
      "Epoch 1/20\n",
      "1050/1050 [==============================] - 2s 1ms/step - loss: 4.5235 - accuracy: 0.8379\n",
      "Epoch 2/20\n",
      "1050/1050 [==============================] - 1s 1ms/step - loss: 0.5788 - accuracy: 0.8791\n",
      "Epoch 3/20\n",
      "1050/1050 [==============================] - 1s 1ms/step - loss: 0.4004 - accuracy: 0.9078\n",
      "Epoch 4/20\n",
      "1050/1050 [==============================] - 1s 1ms/step - loss: 0.3359 - accuracy: 0.9185\n",
      "Epoch 5/20\n",
      "1050/1050 [==============================] - 1s 1ms/step - loss: 0.2953 - accuracy: 0.9257\n",
      "Epoch 6/20\n",
      "1050/1050 [==============================] - 1s 1ms/step - loss: 0.2476 - accuracy: 0.9372\n",
      "Epoch 7/20\n",
      "1050/1050 [==============================] - 1s 1ms/step - loss: 0.2382 - accuracy: 0.9390\n",
      "Epoch 8/20\n",
      "1050/1050 [==============================] - 1s 1ms/step - loss: 0.2203 - accuracy: 0.9422\n",
      "Epoch 9/20\n",
      "1050/1050 [==============================] - 1s 1ms/step - loss: 0.2088 - accuracy: 0.9476\n",
      "Epoch 10/20\n",
      "1050/1050 [==============================] - 1s 1ms/step - loss: 0.2113 - accuracy: 0.9465\n",
      "Epoch 11/20\n",
      "1050/1050 [==============================] - 1s 1ms/step - loss: 0.1957 - accuracy: 0.9520\n",
      "Epoch 12/20\n",
      "1050/1050 [==============================] - 1s 1ms/step - loss: 0.1755 - accuracy: 0.9554\n",
      "Epoch 13/20\n",
      "1050/1050 [==============================] - 1s 1ms/step - loss: 0.1613 - accuracy: 0.9595\n",
      "Epoch 14/20\n",
      "1050/1050 [==============================] - 1s 1ms/step - loss: 0.1754 - accuracy: 0.9567\n",
      "Epoch 15/20\n",
      "1050/1050 [==============================] - 1s 1ms/step - loss: 0.1548 - accuracy: 0.9603\n",
      "Epoch 16/20\n",
      "1050/1050 [==============================] - 1s 1ms/step - loss: 0.1488 - accuracy: 0.9613\n",
      "Epoch 17/20\n",
      "1050/1050 [==============================] - 1s 1ms/step - loss: 0.1470 - accuracy: 0.9614\n",
      "Epoch 18/20\n",
      "1050/1050 [==============================] - 1s 1ms/step - loss: 0.1513 - accuracy: 0.9627\n",
      "Epoch 19/20\n",
      "1050/1050 [==============================] - 1s 1ms/step - loss: 0.1385 - accuracy: 0.9652\n",
      "Epoch 20/20\n",
      "1050/1050 [==============================] - 1s 1ms/step - loss: 0.1513 - accuracy: 0.9638\n"
     ]
    }
   ],
   "source": [
    "# create a simple neural network\n",
    "x_train_f = x_train.values.reshape(-1,28,28,1)\n",
    "print(x_train_f.shape)\n",
    "\n",
    "model_2 = tf.keras.Sequential([\n",
    "    tf.keras.layers.Flatten(input_shape=(28,28)),\n",
    "    tf.keras.layers.Dense(100, activation=\"relu\"),\n",
    "    tf.keras.layers.Dense(10, activation='softmax')\n",
    "])\n",
    "\n",
    "model_2.compile(optimizer=tf.keras.optimizers.Adam(),\n",
    "                loss=tf.keras.losses.SparseCategoricalCrossentropy(),\n",
    "               metrics=['accuracy'])\n",
    "\n",
    "#print(model_1.summary())\n",
    "history_2 = model_2.fit(x_train_f, y_train, epochs=20)"
   ]
  },
  {
   "cell_type": "code",
   "execution_count": 10,
   "id": "9b23dac0",
   "metadata": {},
   "outputs": [
    {
     "data": {
      "text/plain": [
       "Text(0.5, 1.0, 'Loss and Accuracy of Model 2')"
      ]
     },
     "execution_count": 10,
     "metadata": {},
     "output_type": "execute_result"
    },
    {
     "data": {
      "image/png": "[encoded data removed]",
      "text/plain": [
       "<Figure size 432x288 with 1 Axes>"
      ]
     },
     "metadata": {
      "needs_background": "light"
     },
     "output_type": "display_data"
    },
    {
     "data": {
      "image/png": "[encoded data removed]",
      "text/plain": [
       "<Figure size 432x288 with 1 Axes>"
      ]
     },
     "metadata": {
      "needs_background": "light"
     },
     "output_type": "display_data"
    }
   ],
   "source": [
    "# plot accuracy of models\n",
    "pd.DataFrame(history_1.history).plot()\n",
    "plt.title(\"Loss and Accuracy of Model 1\")\n",
    "\n",
    "pd.DataFrame(history_2.history).plot()\n",
    "plt.title(\"Loss and Accuracy of Model 2\")"
   ]
  },
  {
   "cell_type": "code",
   "execution_count": 11,
   "id": "8c5efcc2",
   "metadata": {},
   "outputs": [
    {
     "name": "stdout",
     "output_type": "stream",
     "text": [
      "263/263 [==============================] - 0s 944us/step - loss: 0.3474 - accuracy: 0.9454\n"
     ]
    }
   ],
   "source": [
    "# compute the loss and other metrics of the model\n",
    "loss_1,accuracy_1 = model_1.evaluate(x_test,y_test)"
   ]
  },
  {
   "cell_type": "code",
   "execution_count": 12,
   "id": "fc7509f7",
   "metadata": {},
   "outputs": [],
   "source": [
    "def convert_multi_dimensional_array_to_array(multi_array):\n",
    "    single_array = []\n",
    "\n",
    "    for elem in multi_array:    \n",
    "        single_array.append(elem.argmax())\n",
    "        \n",
    "    return single_array"
   ]
  },
  {
   "cell_type": "code",
   "execution_count": 13,
   "id": "1933e01b",
   "metadata": {},
   "outputs": [
    {
     "data": {
      "text/plain": [
       "array([[773,   0,   2,   0,   1,   0,   7,   0,  30,   0],\n",
       "       [  0, 957,   4,   2,   1,   1,   2,   5,   7,   4],\n",
       "       [  0,   3, 784,   4,   2,   0,   2,   8,  14,   3],\n",
       "       [  0,   4,   9, 773,   1,   3,   1,  13,  14,   8],\n",
       "       [  1,   1,   0,   0, 759,   0,  17,  11,   7,  18],\n",
       "       [  1,   2,   4,  20,   1, 710,   7,   2,  11,   7],\n",
       "       [  3,   2,   1,   0,   2,   4, 860,   1,  21,   0],\n",
       "       [  1,   0,   6,   3,   3,   0,   1, 827,   3,  11],\n",
       "       [  0,   7,   5,   7,   2,   6,   2,   5, 755,  10],\n",
       "       [  4,   0,   0,   7,  18,   6,   0,  29,  24, 743]], dtype=int64)"
      ]
     },
     "execution_count": 13,
     "metadata": {},
     "output_type": "execute_result"
    }
   ],
   "source": [
    "# Test the model on the test set, making a comparison between the y_test labels and the output of predict function\n",
    "y_pred = model_1.predict(x_test)\n",
    "yy_pred = convert_multi_dimensional_array_to_array(y_pred)\n",
    "\n",
    "confusion_matrix(y_test, yy_pred)"
   ]
  },
  {
   "cell_type": "code",
   "execution_count": 14,
   "id": "99faa261",
   "metadata": {},
   "outputs": [],
   "source": [
    "y_final= model_1.predict(test_data)\n",
    "#print(y_final)"
   ]
  },
  {
   "cell_type": "code",
   "execution_count": 15,
   "id": "b753a5a4",
   "metadata": {},
   "outputs": [
    {
     "name": "stdout",
     "output_type": "stream",
     "text": [
      "(28000,)\n"
     ]
    }
   ],
   "source": [
    "y_final = np.array(convert_multi_dimensional_array_to_array(y_final))\n",
    "print(y_final.shape)"
   ]
  },
  {
   "cell_type": "code",
   "execution_count": 16,
   "id": "56d11087",
   "metadata": {},
   "outputs": [],
   "source": [
    "result_file= open(\"result.txt\",\"w+\")\n",
    "result_file.truncate()\n",
    "result_file.write(\"ImageId,Label\\n\")\n",
    "count = 1 \n",
    "for elem in y_final:\n",
    "    result_file.write(str(count) + \",\"+ str(elem) + \"\\n\")\n",
    "    count +=1\n",
    "result_file.close()"
   ]
  },
  {
   "cell_type": "code",
   "execution_count": null,
   "id": "f1059237",
   "metadata": {},
   "outputs": [],
   "source": []
  }
 ],
 "metadata": {
  "kernelspec": {
   "display_name": "Python 3",
   "language": "python",
   "name": "python3"
  },
  "language_info": {
   "codemirror_mode": {
    "name": "ipython",
    "version": 3
   },
   "file_extension": ".py",
   "mimetype": "text/x-python",
   "name": "python",
   "nbconvert_exporter": "python",
   "pygments_lexer": "ipython3",
   "version": "3.8.8"
  }
 },
 "nbformat": 4,
 "nbformat_minor": 5
}
